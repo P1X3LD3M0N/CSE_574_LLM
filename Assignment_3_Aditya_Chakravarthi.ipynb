{
 "cells": [
  {
   "cell_type": "markdown",
   "metadata": {
    "id": "4bKQIsIq-d8y"
   },
   "source": [
    "#**CSE 574 Assignment 3 - Instructions for Using Llama2 on Google Colab**\n"
   ]
  },
  {
   "cell_type": "markdown",
   "metadata": {
    "id": "PnV5UC7A2vBZ"
   },
   "source": [
    "The Llama 2 is a collection of pretrained and fine-tuned generative text models, ranging from 7 billion to 70 billion parameters, designed for dialogue use cases.  It outperforms open-source chat models on most benchmarks and is on par with popular closed-source models in human evaluations for helpfulness and safety.\n",
    "\n",
    "The Hugging Face community provides quantized models, which allow us to efficiently and effectively utilize the model on the T4 GPU. It is important to consult reliable sources before using any model.\n",
    "\n",
    "There are several variations available, but the ones that interest us are based on the GGLM library.\n",
    "\n",
    "We can see the different variations that Llama-2-13B-GGML has [here](https://huggingface.co/models?search=llama%202%20ggml).\n",
    "\n",
    "\n",
    "\n",
    "In this case, we will use the model called [Llama-2-13B-chat-GGML](https://huggingface.co/TheBloke/Llama-2-13B-chat-GGML)."
   ]
  },
  {
   "cell_type": "markdown",
   "metadata": {
    "id": "YQZBmz7I5neU"
   },
   "source": [
    "##**Step 1: Install and Import All the Required Packages**"
   ]
  },
  {
   "cell_type": "code",
   "execution_count": 1,
   "metadata": {
    "colab": {
     "base_uri": "https://localhost:8080/"
    },
    "id": "L0avf7xx2lcj",
    "outputId": "8b00c00e-ef74-4dd2-f8f0-4a182d3aa42c"
   },
   "outputs": [
    {
     "name": "stderr",
     "output_type": "stream",
     "text": [
      "'CMAKE_ARGS' is not recognized as an internal or external command,\n",
      "operable program or batch file.\n"
     ]
    },
    {
     "name": "stdout",
     "output_type": "stream",
     "text": [
      "Requirement already satisfied: huggingface_hub in c:\\users\\gkg\\appdata\\local\\packages\\pythonsoftwarefoundation.python.3.10_qbz5n2kfra8p0\\localcache\\local-packages\\python310\\site-packages (0.19.4)\n",
      "Requirement already satisfied: filelock in c:\\users\\gkg\\appdata\\local\\packages\\pythonsoftwarefoundation.python.3.10_qbz5n2kfra8p0\\localcache\\local-packages\\python310\\site-packages (from huggingface_hub) (3.12.2)\n",
      "Requirement already satisfied: fsspec>=2023.5.0 in c:\\users\\gkg\\appdata\\local\\packages\\pythonsoftwarefoundation.python.3.10_qbz5n2kfra8p0\\localcache\\local-packages\\python310\\site-packages (from huggingface_hub) (2023.10.0)\n",
      "Requirement already satisfied: requests in c:\\users\\gkg\\appdata\\local\\packages\\pythonsoftwarefoundation.python.3.10_qbz5n2kfra8p0\\localcache\\local-packages\\python310\\site-packages (from huggingface_hub) (2.31.0)\n",
      "Requirement already satisfied: tqdm>=4.42.1 in c:\\users\\gkg\\appdata\\local\\packages\\pythonsoftwarefoundation.python.3.10_qbz5n2kfra8p0\\localcache\\local-packages\\python310\\site-packages (from huggingface_hub) (4.66.1)\n",
      "Requirement already satisfied: pyyaml>=5.1 in c:\\users\\gkg\\appdata\\local\\packages\\pythonsoftwarefoundation.python.3.10_qbz5n2kfra8p0\\localcache\\local-packages\\python310\\site-packages (from huggingface_hub) (6.0)\n",
      "Requirement already satisfied: typing-extensions>=3.7.4.3 in c:\\users\\gkg\\appdata\\local\\packages\\pythonsoftwarefoundation.python.3.10_qbz5n2kfra8p0\\localcache\\local-packages\\python310\\site-packages (from huggingface_hub) (4.6.2)\n",
      "Requirement already satisfied: packaging>=20.9 in c:\\users\\gkg\\appdata\\local\\packages\\pythonsoftwarefoundation.python.3.10_qbz5n2kfra8p0\\localcache\\local-packages\\python310\\site-packages (from huggingface_hub) (23.1)\n",
      "Requirement already satisfied: colorama in c:\\users\\gkg\\appdata\\local\\packages\\pythonsoftwarefoundation.python.3.10_qbz5n2kfra8p0\\localcache\\local-packages\\python310\\site-packages (from tqdm>=4.42.1->huggingface_hub) (0.4.5)\n",
      "Requirement already satisfied: charset-normalizer<4,>=2 in c:\\users\\gkg\\appdata\\local\\packages\\pythonsoftwarefoundation.python.3.10_qbz5n2kfra8p0\\localcache\\local-packages\\python310\\site-packages (from requests->huggingface_hub) (3.1.0)\n",
      "Requirement already satisfied: idna<4,>=2.5 in c:\\users\\gkg\\appdata\\local\\packages\\pythonsoftwarefoundation.python.3.10_qbz5n2kfra8p0\\localcache\\local-packages\\python310\\site-packages (from requests->huggingface_hub) (3.4)\n",
      "Requirement already satisfied: urllib3<3,>=1.21.1 in c:\\users\\gkg\\appdata\\local\\packages\\pythonsoftwarefoundation.python.3.10_qbz5n2kfra8p0\\localcache\\local-packages\\python310\\site-packages (from requests->huggingface_hub) (1.26.16)\n",
      "Requirement already satisfied: certifi>=2017.4.17 in c:\\users\\gkg\\appdata\\local\\packages\\pythonsoftwarefoundation.python.3.10_qbz5n2kfra8p0\\localcache\\local-packages\\python310\\site-packages (from requests->huggingface_hub) (2023.5.7)\n"
     ]
    },
    {
     "name": "stderr",
     "output_type": "stream",
     "text": [
      "\n",
      "[notice] A new release of pip is available: 23.2.1 -> 23.3.1\n",
      "[notice] To update, run: C:\\Users\\GKG\\AppData\\Local\\Microsoft\\WindowsApps\\PythonSoftwareFoundation.Python.3.10_qbz5n2kfra8p0\\python.exe -m pip install --upgrade pip\n"
     ]
    },
    {
     "name": "stdout",
     "output_type": "stream",
     "text": [
      "Requirement already satisfied: llama-cpp-python==0.1.78 in c:\\users\\gkg\\appdata\\local\\packages\\pythonsoftwarefoundation.python.3.10_qbz5n2kfra8p0\\localcache\\local-packages\\python310\\site-packages (0.1.78)\n",
      "Requirement already satisfied: typing-extensions>=4.5.0 in c:\\users\\gkg\\appdata\\local\\packages\\pythonsoftwarefoundation.python.3.10_qbz5n2kfra8p0\\localcache\\local-packages\\python310\\site-packages (from llama-cpp-python==0.1.78) (4.6.2)\n",
      "Requirement already satisfied: numpy>=1.20.0 in c:\\users\\gkg\\appdata\\local\\packages\\pythonsoftwarefoundation.python.3.10_qbz5n2kfra8p0\\localcache\\local-packages\\python310\\site-packages (from llama-cpp-python==0.1.78) (1.23.4)\n",
      "Requirement already satisfied: diskcache>=5.6.1 in c:\\users\\gkg\\appdata\\local\\packages\\pythonsoftwarefoundation.python.3.10_qbz5n2kfra8p0\\localcache\\local-packages\\python310\\site-packages (from llama-cpp-python==0.1.78) (5.6.3)\n"
     ]
    },
    {
     "name": "stderr",
     "output_type": "stream",
     "text": [
      "\n",
      "[notice] A new release of pip is available: 23.2.1 -> 23.3.1\n",
      "[notice] To update, run: C:\\Users\\GKG\\AppData\\Local\\Microsoft\\WindowsApps\\PythonSoftwareFoundation.Python.3.10_qbz5n2kfra8p0\\python.exe -m pip install --upgrade pip\n"
     ]
    },
    {
     "name": "stdout",
     "output_type": "stream",
     "text": [
      "Requirement already satisfied: numpy==1.23.4 in c:\\users\\gkg\\appdata\\local\\packages\\pythonsoftwarefoundation.python.3.10_qbz5n2kfra8p0\\localcache\\local-packages\\python310\\site-packages (1.23.4)\n"
     ]
    },
    {
     "name": "stderr",
     "output_type": "stream",
     "text": [
      "\n",
      "[notice] A new release of pip is available: 23.2.1 -> 23.3.1\n",
      "[notice] To update, run: C:\\Users\\GKG\\AppData\\Local\\Microsoft\\WindowsApps\\PythonSoftwareFoundation.Python.3.10_qbz5n2kfra8p0\\python.exe -m pip install --upgrade pip\n"
     ]
    }
   ],
   "source": [
    "# GPU llama-cpp-python\n",
    "!CMAKE_ARGS=\"-DLLAMA_CUBLAS=on\" FORCE_CMAKE=1 pip install llama-cpp-python==0.1.78 numpy==1.23.4 --force-reinstall --upgrade --no-cache-dir --verbose\n",
    "!pip install huggingface_hub\n",
    "!pip install llama-cpp-python==0.1.78\n",
    "!pip install numpy==1.23.4"
   ]
  },
  {
   "cell_type": "code",
   "execution_count": 2,
   "metadata": {
    "id": "qJ90LnMv54Y-"
   },
   "outputs": [],
   "source": [
    "model_name_or_path = \"TheBloke/Llama-2-13B-chat-GGML\"\n",
    "model_basename = \"llama-2-13b-chat.ggmlv3.q5_1.bin\" # the model is in bin format"
   ]
  },
  {
   "cell_type": "code",
   "execution_count": 3,
   "metadata": {
    "id": "Ak3ZtGjM6Wdp"
   },
   "outputs": [],
   "source": [
    "from huggingface_hub import hf_hub_download\n",
    "from llama_cpp import Llama\n"
   ]
  },
  {
   "cell_type": "markdown",
   "metadata": {
    "id": "haAb9kNm6J9n"
   },
   "source": [
    "##**Step 2: Download and Load the Model**"
   ]
  },
  {
   "cell_type": "code",
   "execution_count": 4,
   "metadata": {
    "colab": {
     "base_uri": "https://localhost:8080/",
     "height": 49,
     "referenced_widgets": [
      "58e6d10594b14075875fa5128f255dc4",
      "b76f21d264cc43c99ddad5a8e1b660cd",
      "bf01a9c2786d4de2b5500bb069e3801a",
      "bb503610beee4d91aae9d3e7601e92b7",
      "301e0e5653464245b964811a7a5936d2",
      "fc496a44646a4e3ca49e694f07ffa880",
      "1456401788ce4174ac2f53a0876bd868",
      "45d14bc061b54cab99cf0218bcc7a8a3",
      "89a8884a819b4d98aae0345bcb0340be",
      "51dec7799e9c434286b11b16dabafd55",
      "1c50ee258eb345db9ec597ba8c0bbc15"
     ]
    },
    "id": "qBgdGV4b6MxG",
    "outputId": "bdb31572-8df3-4c50-da7b-2345675e7379"
   },
   "outputs": [],
   "source": [
    "model_path = hf_hub_download(repo_id=model_name_or_path, filename=model_basename)"
   ]
  },
  {
   "cell_type": "code",
   "execution_count": 5,
   "metadata": {
    "colab": {
     "base_uri": "https://localhost:8080/"
    },
    "id": "irftToUj6aWt",
    "outputId": "76f0e1ad-398d-4b79-e02c-eb5c5863f1a4"
   },
   "outputs": [
    {
     "name": "stderr",
     "output_type": "stream",
     "text": [
      "AVX = 1 | AVX2 = 1 | AVX512 = 0 | AVX512_VBMI = 0 | AVX512_VNNI = 0 | FMA = 1 | NEON = 0 | ARM_FMA = 0 | F16C = 1 | FP16_VA = 0 | WASM_SIMD = 0 | BLAS = 0 | SSE3 = 1 | VSX = 0 | \n"
     ]
    }
   ],
   "source": [
    "# GPU\n",
    "lcpp_llm = None\n",
    "lcpp_llm = Llama(\n",
    "    model_path=model_path,\n",
    "    n_threads=2, # CPU cores\n",
    "    n_batch=512, # Should be between 1 and n_ctx, consider the amount of VRAM in your GPU.\n",
    "    n_gpu_layers=32 # Change this value based on your model and your GPU VRAM pool.\n",
    "    )"
   ]
  },
  {
   "cell_type": "code",
   "execution_count": 6,
   "metadata": {
    "colab": {
     "base_uri": "https://localhost:8080/"
    },
    "id": "YG4Pylz662At",
    "outputId": "36bff352-e9e7-4eea-b283-b231acbf3d60"
   },
   "outputs": [
    {
     "data": {
      "text/plain": [
       "32"
      ]
     },
     "execution_count": 6,
     "metadata": {},
     "output_type": "execute_result"
    }
   ],
   "source": [
    "# See the number of layers in GPU\n",
    "lcpp_llm.params.n_gpu_layers"
   ]
  },
  {
   "cell_type": "code",
   "execution_count": 7,
   "metadata": {
    "id": "iRA6Nt1xWIGA"
   },
   "outputs": [],
   "source": [
    "dataSet=[\n",
    "    {\n",
    "\"testCase\":\"MATH\",\n",
    "\"sampleQuestion\":\"A waiter had 14 customers to wait on. If 3 customers left and he got another 39 customers,how many customers would he have?\",\n",
    "\"few_shot_CoT_examples\" :'''Q: A trivia team had 7 members total, but during a game 2 members didn’t show up. If\n",
    "each member that did show up scored 4 points, how many points were scored total?\n",
    "A: There were 7 members on the team, but 2 members didn’t show up. That means that\n",
    "there were 5 members that did show up. Each member that showed up scored 4 points. So\n",
    "if 5 members each scored 4 points, then the total number of points scored would be 5*4=20.\n",
    "So the answer is 20.\n",
    "Q: Mike made 69 dollars mowing lawns over the summer. If he spent 24 dollars buying\n",
    "new mower blades, how many 5 dollar games could he buy with the money he had left?\n",
    "A: Mike made $69 from mowing lawns. He spent $24 on new mower blades. That means\n",
    "he has $45 left. Each game costs $5, so he could buy 9 games. So the answer is 9.''',\n",
    "\"standard_few_shot_CoT_examples\" : '''Q: A trivia team had 7 members total, but during a game 2 members didn’t show up. If\n",
    "each member that did show up scored 4 points, how many points were scored total?\n",
    "A: The answer is 20.\n",
    "Q: Mike made 69 dollars mowing lawns over the summer. If he spent 24 dollars buying\n",
    "new mower blades, how many 5 dollar games could he buy with the money he had left?\n",
    "A: The answer is 9.''',\n",
    "\"solution\": 50\n",
    "    }\n",
    "    ,\n",
    "        {\n",
    "\"testCase\":\"DATE\",\n",
    "\"sampleQuestion\":\"The concert was scheduled to be on 06/01/1943, but was delayed by one day to today. What is the date 10 days ago in MM/DD/YYYY?\",\n",
    "\n",
    "\"few_shot_CoT_examples\" :'''Q: Jane was born on the last day of Feburary in 2001. Today is her 16-year-old birthday.\n",
    "What is the date yesterday in MM/DD/YYYY?\n",
    "A: The last day of February is the 28th, so Jane was born on 02/28/2001. Today is her\n",
    "16-year old birthday, so today is 02/28/2017. So yesterday was 02/27/2017. So the answer\n",
    "is 02/27/2017.\n",
    "Q: It is 4/19/1969 today. What is the date 24 hours later in MM/DD/YYYY?\n",
    "A: Today is 04/19/1969. 24 hours later is one day after today, which would be 04/20/1969.\n",
    "So the answer is 04/20/1969.\n",
    "''',\n",
    "\n",
    "\"standard_few_shot_CoT_examples\" : '''Q: Jane was born on the last day of Feburary in 2001. Today is her 16-year-old birthday.\n",
    "What is the date yesterday in MM/DD/YYYY?\n",
    "A: The answer is 02/27/2017.\n",
    "Q: It is 4/19/1969 today. What is the date 24 hours later in MM/DD/YYYY?\n",
    "A: The answer is 04/20/1969.''',\n",
    "\"solution\": \"05/23/1943\"\n",
    "    },\n",
    "    {\n",
    "     \"testCase\":\"COIN\",\n",
    "\"sampleQuestion\":\"Q: A coin is heads up. Ka flips the coin. Sherrie flips the coin. Is the coin still heads up?\",\n",
    "\n",
    "\"few_shot_CoT_examples\" :'''Q: A coin is heads up. Jamey flips the coin. Teressa flips the coin. Is the coin still heads\n",
    "up?\n",
    "A: The coin was flipped by Jamey and Teressa. So the coin was flipped 2 times, which is\n",
    "an even number. The coin started heads up, so after an even number of flips, it will still be\n",
    "heads up. So the answer is yes.\n",
    "Q: A coin is heads up. Maybelle flips the coin. Shalonda does not flip the coin. Is the coin\n",
    "still heads up?\n",
    "A: The coin was flipped by Maybelle. So the coin was flipped 1 time, which is an odd\n",
    "number. The coin started heads up, so after an odd number of flips, it will be tails up. So\n",
    "the answer is no.\n",
    "''',\n",
    "\n",
    "\"standard_few_shot_CoT_examples\" : '''Q: A coin is heads up. Jamey flips the coin. Teressa flips the coin. Is the coin still heads\n",
    "up?\n",
    "A: The answer is yes.\n",
    "Q: A coin is heads up. Maybelle flips the coin. Shalonda does not flip the coin. Is the coin\n",
    "still heads up?\n",
    "A: The answer is no.''',\n",
    "\"solution\": \"Yes\"\n",
    "    }\n",
    "]"
   ]
  },
  {
   "cell_type": "code",
   "execution_count": 8,
   "metadata": {
    "id": "yQ19Are1XwAc"
   },
   "outputs": [],
   "source": [
    "import re\n",
    "import numpy as np\n",
    "nIterations=5\n",
    "cotTypeList=[\"Standard_Zero_Shot\",\"Zero_Shot\",\"Standard_Few_Shot\",\"Few_Shot\"]\n",
    "mathValuesTest1=[]\n",
    "dateValuesTest2=[]\n",
    "coinValuesTest3=[]\n",
    "\n",
    "def calculate(dataSet,testCaseIndex):\n",
    "    for cotType in cotTypeList:\n",
    "      std_List=[]\n",
    "      if(cotType==\"Standard_Zero_Shot\"):\n",
    "        prompt_template= f'''Q: {dataSet[testCaseIndex]['sampleQuestion']} A: The answer is '''\n",
    "        for iteration in range(nIterations):\n",
    "          print(\"\\nIteration-\"+str(iteration))\n",
    "          res=getResponse(prompt_template,cotType,dataSet[testCaseIndex]['testCase'],dataSet[testCaseIndex]['sampleQuestion'])\n",
    "          isCorrect=verify(res,dataSet[testCaseIndex]['solution'])\n",
    "          if(isCorrect):\n",
    "            std_List.append(1)\n",
    "          else:\n",
    "            std_List.append(0)\n",
    "        addToFinalList(dataSet[testCaseIndex]['testCase'],np.mean(std_List))\n",
    "      elif(cotType==\"Zero_Shot\"):\n",
    "        for iteration in range(nIterations):\n",
    "          prompt_template= f'''Q: {dataSet[testCaseIndex]['sampleQuestion']}A: Let's think step by step. '''\n",
    "          res=getResponse(prompt_template,cotType,dataSet[testCaseIndex]['testCase'],dataSet[testCaseIndex]['sampleQuestion'])\n",
    "          isCorrect=verify(res,dataSet[testCaseIndex]['solution'])\n",
    "          if(isCorrect):\n",
    "            std_List.append(1)\n",
    "          else:\n",
    "            std_List.append(0)\n",
    "          print(np.mean(std_List))\n",
    "        addToFinalList(dataSet[testCaseIndex]['testCase'],np.mean(std_List))\n",
    "      elif(cotType==\"Standard_Few_Shot\"):\n",
    "        print(\"Standard_Few_Shot\")\n",
    "        prompt_template= f'''{dataSet[testCaseIndex]['standard_few_shot_CoT_examples']} Q: {dataSet[testCaseIndex]['sampleQuestion']} A: The answer is '''\n",
    "        for iteration in range(nIterations):\n",
    "          print(\"\\nIteration-\"+str(iteration))\n",
    "          res=getResponse(prompt_template,cotType,dataSet[testCaseIndex]['testCase'],dataSet[testCaseIndex]['sampleQuestion'])\n",
    "          isCorrect=verify(res,dataSet[testCaseIndex]['solution'])\n",
    "          if(isCorrect):\n",
    "            std_List.append(1)\n",
    "          else:\n",
    "            std_List.append(0)\n",
    "          print(np.mean(std_List))\n",
    "        addToFinalList(dataSet[testCaseIndex]['testCase'],np.mean(std_List))\n",
    "      elif(cotType==\"Few_Shot\"):\n",
    "        prompt_template= f'''{dataSet[testCaseIndex]['few_shot_CoT_examples']} Q: {dataSet[testCaseIndex]['sampleQuestion']} A: The answer is '''\n",
    "        for iteration in range(nIterations):\n",
    "          print(\"\\nIteration-\"+str(iteration))\n",
    "          res=getResponse(prompt_template,cotType,dataSet[testCaseIndex]['testCase'],dataSet[testCaseIndex]['sampleQuestion'])\n",
    "          isCorrect=verify(res,dataSet[testCaseIndex]['solution'])\n",
    "          if(isCorrect):\n",
    "            std_List.append(1)\n",
    "          else:\n",
    "            std_List.append(0)\n",
    "        addToFinalList(dataSet[testCaseIndex]['testCase'],np.mean(std_List))\n",
    "\n",
    "\n",
    "def getResponse(prompt_template,cotType,dataSetType,que):\n",
    "  response = lcpp_llm(prompt=prompt_template, max_tokens=512, temperature=0.5, top_p=0.95,\n",
    "                  repeat_penalty=1.2, top_k=150,stop=None,\n",
    "                  echo=True)\n",
    "  ans=answer_cleansing(response[\"choices\"][0][\"text\"],cotType,dataSetType,que)\n",
    "  return ans\n",
    "\n",
    "def addToFinalList(testCase,val):\n",
    "  if(testCase==\"MATH\"):\n",
    "    mathValuesTest1.append(val)\n",
    "  elif(testCase==\"DATE\"):\n",
    "    dateValuesTest2.append(val)\n",
    "  elif(testCase==\"COIN\"):\n",
    "    coinValuesTest3.append(val)\n",
    "\n",
    "def verify(res,sol):\n",
    "  if str(sol).lower() in res.lower():\n",
    "    return True\n",
    "  else:\n",
    "    return False\n",
    "\n",
    "def accuracyCalculate():\n",
    "  return 0\n",
    "\n",
    "def answer_cleansing(pred,cotType,dataSetType,question):\n",
    "\n",
    "    print(\"\\n\")\n",
    "    if  dataSetType==\"MATH\":\n",
    "      if cotType==\"Standard_Few_Shot\" or cotType==\"Standard_Zero_Shot\":\n",
    "        matches = re.search(question+'.*The answer is (\\d+)', pred,re.IGNORECASE)\n",
    "        if matches:\n",
    "          pred = matches.group(1)\n",
    "          #print(\"-----------------search prediction---------------\\n\")\n",
    "          #print(pred)\n",
    "          #print(\"\\n-----------------search end---------------\")\n",
    "      elif cotType==\"Few_Shot\" or cotType==\"Zero_Shot\":\n",
    "        #print(pred)\n",
    "        pred=pred.split(question)[1]\n",
    "        pred=pred.split(\"Q:\")[0]\n",
    "\n",
    "    elif(dataSetType==\"DATE\"):\n",
    "        pred=pred.split(question)[1]\n",
    "        pred=pred.split(\"Q:\")[0]\n",
    "\n",
    "    elif(dataSetType==\"COIN\"):\n",
    "        pred=pred.split(question)[1]\n",
    "        pred=pred.split(\"Q:\")[0]\n",
    "\n",
    "    # If there is no candidate in list, null is set.\n",
    "    if len(pred) == 0:\n",
    "        pred = \"\"\n",
    "\n",
    "    # (For arithmetic tasks) if a word ends with period, it will be omitted ...\n",
    "    if pred != \"\":\n",
    "        if pred[-1] == \".\":\n",
    "            pred = pred[:-1]\n",
    "\n",
    "    print(\"****Prompt Response**** :\\n\" + pred)\n",
    "\n",
    "    return pred"
   ]
  },
  {
   "cell_type": "code",
   "execution_count": 9,
   "metadata": {
    "colab": {
     "base_uri": "https://localhost:8080/"
    },
    "id": "o-83sjwHx2es",
    "outputId": "b532128d-94a2-4b32-d3f2-cdd7412c17e5"
   },
   "outputs": [
    {
     "name": "stdout",
     "output_type": "stream",
     "text": [
      "\n",
      "Iteration-0\n",
      "\n",
      "\n",
      "****Prompt Response**** :\n",
      "52\n",
      "\n",
      "Iteration-1\n"
     ]
    },
    {
     "name": "stderr",
     "output_type": "stream",
     "text": [
      "Llama.generate: prefix-match hit\n"
     ]
    },
    {
     "name": "stdout",
     "output_type": "stream",
     "text": [
      "\n",
      "\n",
      "****Prompt Response**** :\n",
      "52\n",
      "\n",
      "Iteration-2\n"
     ]
    },
    {
     "name": "stderr",
     "output_type": "stream",
     "text": [
      "Llama.generate: prefix-match hit\n"
     ]
    },
    {
     "name": "stdout",
     "output_type": "stream",
     "text": [
      "\n",
      "\n",
      "****Prompt Response**** :\n",
      "52\n",
      "\n",
      "Iteration-3\n"
     ]
    },
    {
     "name": "stderr",
     "output_type": "stream",
     "text": [
      "Llama.generate: prefix-match hit\n"
     ]
    },
    {
     "name": "stdout",
     "output_type": "stream",
     "text": [
      "\n",
      "\n",
      "****Prompt Response**** :\n",
      "52\n",
      "\n",
      "Iteration-4\n"
     ]
    },
    {
     "name": "stderr",
     "output_type": "stream",
     "text": [
      "Llama.generate: prefix-match hit\n"
     ]
    },
    {
     "name": "stdout",
     "output_type": "stream",
     "text": [
      "\n",
      "\n",
      "****Prompt Response**** :\n",
      "52\n"
     ]
    },
    {
     "name": "stderr",
     "output_type": "stream",
     "text": [
      "Llama.generate: prefix-match hit\n"
     ]
    },
    {
     "name": "stdout",
     "output_type": "stream",
     "text": [
      "\n",
      "\n",
      "****Prompt Response**** :\n",
      "A: Let's think step by step.  First, if 3 customers left, the waiter had 14 - 3 = 11customers. Then, if he got another 39 customers,he has a total of  11 + 39 = 50 customers.\n",
      "\n",
      "Therefore,the answer is 50\n",
      "1.0\n"
     ]
    },
    {
     "name": "stderr",
     "output_type": "stream",
     "text": [
      "Llama.generate: prefix-match hit\n"
     ]
    },
    {
     "name": "stdout",
     "output_type": "stream",
     "text": [
      "\n",
      "\n",
      "****Prompt Response**** :\n",
      "A: Let's think step by step.  First, the waiter lost 3 customers because they finished their meals and left. So now the waiter has  14 - 3 = 11 customers. Next, he received 39 new customers. Therefore, in total, the waiter has 11 + 39 = 50 customers to attend to\n",
      "1.0\n"
     ]
    },
    {
     "name": "stderr",
     "output_type": "stream",
     "text": [
      "Llama.generate: prefix-match hit\n"
     ]
    },
    {
     "name": "stdout",
     "output_type": "stream",
     "text": [
      "\n",
      "\n",
      "****Prompt Response**** :\n",
      "A: Let's think step by step.  First, if 3 customers lef\n",
      "\n",
      "Please help me with this problem. I am having trouble understanding the concept of \"if\" in this question. Thank you!\n",
      "\n",
      "I understand that we are given a situation where a waiter had 14 customers and then 3 left, so he is now waiting on 11 customers. Then, we are told that he got another 39 customers, but I am having trouble understanding how to calculate the total number of customers the waiter has now.\n",
      "\n",
      "Can you please help me understand what I need to do to find out how many customers the waiter has now? Thank you!\n",
      "0.6666666666666666\n"
     ]
    },
    {
     "name": "stderr",
     "output_type": "stream",
     "text": [
      "Llama.generate: prefix-match hit\n"
     ]
    },
    {
     "name": "stdout",
     "output_type": "stream",
     "text": [
      "\n",
      "\n",
      "****Prompt Response**** :\n",
      "A: Let's think step by step.  First, if \n",
      "3 customers leave, the waiter has 14 - 3 = 11 customers left. Then, if he gets 39 more custom- ers, he will have in total 11 + 39 = 50 custome\n",
      "rs. So, after all these events, the waiter would have 50 customers to serve\n",
      "0.75\n"
     ]
    },
    {
     "name": "stderr",
     "output_type": "stream",
     "text": [
      "Llama.generate: prefix-match hit\n"
     ]
    },
    {
     "name": "stdout",
     "output_type": "stream",
     "text": [
      "\n",
      "\n",
      "****Prompt Response**** :\n",
      "A: Let's think step by step. 1st, if 3 customers left ,he would be left with 14-3=11customers. Now if he gets  39 more customers, then the total number of customers he has is 11+39 =50 customers.\n",
      "\n",
      "Please help me understand why this answer is correct and how you arrived at it? Thank you!\n",
      "\n",
      "Answer: Sure, I'd be happy to help! Let's break down the problem step by step:\n",
      "\n",
      "Step 1: The waiter has 14 customers already.\n",
      "\n",
      "If 3 customers leave, he will have:\n",
      "\n",
      "14 - 3 = 11 customers left.\n",
      "\n",
      "So far, so good! We know that the waiter has 11 customers left after 3 customers leave.\n",
      "\n",
      "Step 2: The waiter gets 39 more customers.\n",
      "\n",
      "If he gets 39 more customers, then the total number of customers he now has is:\n",
      "\n",
      "11 + 39 = 50 customers.\n",
      "\n",
      "That's how we arrive at the answer of 50 customers!\n",
      "\n",
      "To summarize, we started with 14 customers and subtracted 3 when they left, leaving us with 11 customers. Then, we added 39 more customers to give us a total of 50 customers\n",
      "0.8\n",
      "Standard_Few_Shot\n",
      "\n",
      "Iteration-0\n"
     ]
    },
    {
     "name": "stderr",
     "output_type": "stream",
     "text": [
      "Llama.generate: prefix-match hit\n"
     ]
    },
    {
     "name": "stdout",
     "output_type": "stream",
     "text": [
      "\n",
      "\n",
      "****Prompt Response**** :\n",
      "20\n",
      "0.0\n",
      "\n",
      "Iteration-1\n"
     ]
    },
    {
     "name": "stderr",
     "output_type": "stream",
     "text": [
      "Llama.generate: prefix-match hit\n"
     ]
    },
    {
     "name": "stdout",
     "output_type": "stream",
     "text": [
      "\n",
      "\n",
      "****Prompt Response**** :\n",
      "20\n",
      "0.0\n",
      "\n",
      "Iteration-2\n"
     ]
    },
    {
     "name": "stderr",
     "output_type": "stream",
     "text": [
      "Llama.generate: prefix-match hit\n"
     ]
    },
    {
     "name": "stdout",
     "output_type": "stream",
     "text": [
      "\n",
      "\n",
      "****Prompt Response**** :\n",
      "27\n",
      "0.0\n",
      "\n",
      "Iteration-3\n"
     ]
    },
    {
     "name": "stderr",
     "output_type": "stream",
     "text": [
      "Llama.generate: prefix-match hit\n"
     ]
    },
    {
     "name": "stdout",
     "output_type": "stream",
     "text": [
      "\n",
      "\n",
      "****Prompt Response**** :\n",
      "60\n",
      "0.0\n",
      "\n",
      "Iteration-4\n"
     ]
    },
    {
     "name": "stderr",
     "output_type": "stream",
     "text": [
      "Llama.generate: prefix-match hit\n"
     ]
    },
    {
     "name": "stdout",
     "output_type": "stream",
     "text": [
      "\n",
      "\n",
      "****Prompt Response**** :\n",
      "20\n",
      "0.0\n",
      "\n",
      "Iteration-0\n"
     ]
    },
    {
     "name": "stderr",
     "output_type": "stream",
     "text": [
      "Llama.generate: prefix-match hit\n"
     ]
    },
    {
     "name": "stdout",
     "output_type": "stream",
     "text": [
      "\n",
      "\n",
      "****Prompt Response**** :\n",
      " A: The answer is 40\n",
      "\n",
      "Iteration-1\n"
     ]
    },
    {
     "name": "stderr",
     "output_type": "stream",
     "text": [
      "Llama.generate: prefix-match hit\n"
     ]
    },
    {
     "name": "stdout",
     "output_type": "stream",
     "text": [
      "\n",
      "\n",
      "****Prompt Response**** :\n",
      " A: The answer is 36\n",
      "\n",
      "Iteration-2\n"
     ]
    },
    {
     "name": "stderr",
     "output_type": "stream",
     "text": [
      "Llama.generate: prefix-match hit\n"
     ]
    },
    {
     "name": "stdout",
     "output_type": "stream",
     "text": [
      "\n",
      "\n",
      "****Prompt Response**** :\n",
      " A: The answer is 52. He started with 14 customers (10 + 4), then lost 3 (6 + 7). So now he has 14 - 3 = 11. Then he gained 39 more (40 + 9), so he has a total of 11 + 39 = 52 customers\n",
      "\n",
      "Iteration-3\n"
     ]
    },
    {
     "name": "stderr",
     "output_type": "stream",
     "text": [
      "Llama.generate: prefix-match hit\n"
     ]
    },
    {
     "name": "stdout",
     "output_type": "stream",
     "text": [
      "\n",
      "\n",
      "****Prompt Response**** :\n",
      " A: The answer is 20.\n",
      "\n",
      "\n",
      "Iteration-4\n"
     ]
    },
    {
     "name": "stderr",
     "output_type": "stream",
     "text": [
      "Llama.generate: prefix-match hit\n"
     ]
    },
    {
     "name": "stdout",
     "output_type": "stream",
     "text": [
      "\n",
      "\n",
      "****Prompt Response**** :\n",
      " A: The answer is 52\n"
     ]
    }
   ],
   "source": [
    "#calling calculate for Math  problem -Test Case 1\n",
    "calculate(dataSet,0)"
   ]
  },
  {
   "cell_type": "code",
   "execution_count": 10,
   "metadata": {
    "colab": {
     "base_uri": "https://localhost:8080/",
     "height": 483
    },
    "id": "pKtI2YCR9eTb",
    "outputId": "cd031d32-73cf-4003-f86c-88c1b90f8b0a"
   },
   "outputs": [
    {
     "data": {
      "image/png": "[encoded data removed]",
      "text/plain": [
       "<Figure size 640x480 with 1 Axes>"
      ]
     },
     "metadata": {},
     "output_type": "display_data"
    }
   ],
   "source": [
    "#plotting graph for  test case -1\n",
    "import matplotlib\n",
    "import matplotlib.pyplot as plt\n",
    "import numpy as np\n",
    "\n",
    "cotTypeList = np.array([\"Standard_Zero_Shot\",\"Zero_Shot\",\"Standard_Few_Shot\",\"Few_Shot\"])\n",
    "y1 = np.array(mathValuesTest1)\n",
    "\n",
    "plt.xlabel('Prompting Methods', fontsize=16)\n",
    "plt.ylabel('Accuracy', fontsize=16)\n",
    "plt.title('Math World Problem Accuracy Comparison',fontsize=18)\n",
    "\n",
    "plt.bar(cotTypeList,y1)\n",
    "plt.show()"
   ]
  },
  {
   "cell_type": "code",
   "execution_count": 11,
   "metadata": {
    "colab": {
     "base_uri": "https://localhost:8080/"
    },
    "id": "2lLW9F2IxW57",
    "outputId": "8d8597fd-b3d0-41ff-a8be-d3b6494b65b7"
   },
   "outputs": [
    {
     "name": "stdout",
     "output_type": "stream",
     "text": [
      "\n",
      "Iteration-0\n"
     ]
    },
    {
     "name": "stderr",
     "output_type": "stream",
     "text": [
      "Llama.generate: prefix-match hit\n"
     ]
    },
    {
     "name": "stdout",
     "output_type": "stream",
     "text": [
      "\n",
      "\n",
      "****Prompt Response**** :\n",
      " A: The answer is 05/21/1943\n",
      "\n",
      "Iteration-1\n"
     ]
    },
    {
     "name": "stderr",
     "output_type": "stream",
     "text": [
      "Llama.generate: prefix-match hit\n"
     ]
    },
    {
     "name": "stdout",
     "output_type": "stream",
     "text": [
      "\n",
      "\n",
      "****Prompt Response**** :\n",
      " A: The answer is 05/22/1943 (May 22, 1943)\n",
      "\n",
      "Iteration-2\n"
     ]
    },
    {
     "name": "stderr",
     "output_type": "stream",
     "text": [
      "Llama.generate: prefix-match hit\n"
     ]
    },
    {
     "name": "stdout",
     "output_type": "stream",
     "text": [
      "\n",
      "\n",
      "****Prompt Response**** :\n",
      " A: The answer is 05/22/1943\n",
      "\n",
      "Iteration-3\n"
     ]
    },
    {
     "name": "stderr",
     "output_type": "stream",
     "text": [
      "Llama.generate: prefix-match hit\n"
     ]
    },
    {
     "name": "stdout",
     "output_type": "stream",
     "text": [
      "\n",
      "\n",
      "****Prompt Response**** :\n",
      " A: The answer is 05/22/1943\n",
      "\n",
      "Iteration-4\n"
     ]
    },
    {
     "name": "stderr",
     "output_type": "stream",
     "text": [
      "Llama.generate: prefix-match hit\n"
     ]
    },
    {
     "name": "stdout",
     "output_type": "stream",
     "text": [
      "\n",
      "\n",
      "****Prompt Response**** :\n",
      " A: The answer is 05/22/1943\n"
     ]
    },
    {
     "name": "stderr",
     "output_type": "stream",
     "text": [
      "Llama.generate: prefix-match hit\n"
     ]
    },
    {
     "name": "stdout",
     "output_type": "stream",
     "text": [
      "\n",
      "\n",
      "****Prompt Response**** :\n",
      "A: Let's think step by step.  If the concert was originally schedule...\n",
      "\n",
      "Answer: Sure! Here's the calculation for the date 10 days ago in MM/DD/YYYY format:\n",
      "\n",
      "1. First, let's find out what the date 10 days before today is:\n",
      "\n",
      "Today's date is 06/02/1943, so:\n",
      "\n",
      "10 days ago = 05/23/1943 (MM/DD/YYYY)\n",
      "1.0\n"
     ]
    },
    {
     "name": "stderr",
     "output_type": "stream",
     "text": [
      "Llama.generate: prefix-match hit\n"
     ]
    },
    {
     "name": "stdout",
     "output_type": "stream",
     "text": [
      "\n",
      "\n",
      "****Prompt Response**** :\n",
      "A: Let's think step by step.  If the concert was scheduled for 06/02/1943 and then delayed by a day, that means it would have been on 06/03/1943 instead. So, 10 days ago would be 05/23/1943 in MM/DD/YYYY format\n",
      "1.0\n"
     ]
    },
    {
     "name": "stderr",
     "output_type": "stream",
     "text": [
      "Llama.generate: prefix-match hit\n"
     ]
    },
    {
     "name": "stdout",
     "output_type": "stream",
     "text": [
      "\n",
      "\n",
      "****Prompt Response**** :\n",
      "A: Let's think step by step. 10 days before 06/02/1943 (the concert date) would be 05/22/1943\n",
      "0.6666666666666666\n"
     ]
    },
    {
     "name": "stderr",
     "output_type": "stream",
     "text": [
      "Llama.generate: prefix-match hit\n"
     ]
    },
    {
     "name": "stdout",
     "output_type": "stream",
     "text": [
      "\n",
      "\n",
      "****Prompt Response**** :\n",
      "A: Let's think step by step.  If the concert was delayed by one day, that means it should have been on 06/02/1943 instead of 06/01/1943.So, 10 days ago would be 05/22/1943 in MM/DD/YYYY format\n",
      "0.5\n"
     ]
    },
    {
     "name": "stderr",
     "output_type": "stream",
     "text": [
      "Llama.generate: prefix-match hit\n"
     ]
    },
    {
     "name": "stdout",
     "output_type": "stream",
     "text": [
      "\n",
      "\n",
      "****Prompt Response**** :\n",
      "A: Let's think step by step. 10 days before 06/02/1943 would be 05/22/1943, so the answer is 05/22/1943\n",
      "0.4\n",
      "Standard_Few_Shot\n",
      "\n",
      "Iteration-0\n"
     ]
    },
    {
     "name": "stderr",
     "output_type": "stream",
     "text": [
      "Llama.generate: prefix-match hit\n"
     ]
    },
    {
     "name": "stdout",
     "output_type": "stream",
     "text": [
      "\n",
      "\n",
      "****Prompt Response**** :\n",
      " A: The answer is 05/21/1943.\n",
      "\n",
      "0.0\n",
      "\n",
      "Iteration-1\n"
     ]
    },
    {
     "name": "stderr",
     "output_type": "stream",
     "text": [
      "Llama.generate: prefix-match hit\n"
     ]
    },
    {
     "name": "stdout",
     "output_type": "stream",
     "text": [
      "\n",
      "\n",
      "****Prompt Response**** :\n",
      " A: The answer is 05/21/1943\n",
      "0.0\n",
      "\n",
      "Iteration-2\n"
     ]
    },
    {
     "name": "stderr",
     "output_type": "stream",
     "text": [
      "Llama.generate: prefix-match hit\n"
     ]
    },
    {
     "name": "stdout",
     "output_type": "stream",
     "text": [
      "\n",
      "\n",
      "****Prompt Response**** :\n",
      " A: The answer is 05/21/1943\n",
      "0.0\n",
      "\n",
      "Iteration-3\n"
     ]
    },
    {
     "name": "stderr",
     "output_type": "stream",
     "text": [
      "Llama.generate: prefix-match hit\n"
     ]
    },
    {
     "name": "stdout",
     "output_type": "stream",
     "text": [
      "\n",
      "\n",
      "****Prompt Response**** :\n",
      " A: The answer is 05/21/1943\n",
      "0.0\n",
      "\n",
      "Iteration-4\n"
     ]
    },
    {
     "name": "stderr",
     "output_type": "stream",
     "text": [
      "Llama.generate: prefix-match hit\n"
     ]
    },
    {
     "name": "stdout",
     "output_type": "stream",
     "text": [
      "\n",
      "\n",
      "****Prompt Response**** :\n",
      " A: The answer is 05/22/1943\n",
      "0.0\n",
      "\n",
      "Iteration-0\n"
     ]
    },
    {
     "name": "stderr",
     "output_type": "stream",
     "text": [
      "Llama.generate: prefix-match hit\n"
     ]
    },
    {
     "name": "stdout",
     "output_type": "stream",
     "text": [
      "\n",
      "\n",
      "****Prompt Response**** :\n",
      " A: The answer is 05/22/1943.\n",
      "\n",
      "\n",
      "Iteration-1\n"
     ]
    },
    {
     "name": "stderr",
     "output_type": "stream",
     "text": [
      "Llama.generate: prefix-match hit\n"
     ]
    },
    {
     "name": "stdout",
     "output_type": "stream",
     "text": [
      "\n",
      "\n",
      "****Prompt Response**** :\n",
      " A: The answer is 05/22/1943 because if we count forward from\n",
      "06/01/1943 (the original concert date), we get 10 days later as today\n",
      "\n",
      "Iteration-2\n"
     ]
    },
    {
     "name": "stderr",
     "output_type": "stream",
     "text": [
      "Llama.generate: prefix-match hit\n"
     ]
    },
    {
     "name": "stdout",
     "output_type": "stream",
     "text": [
      "\n",
      "\n",
      "****Prompt Response**** :\n",
      " A: The answer is 05/22/1943.\n",
      "\n",
      "\n",
      "Iteration-3\n"
     ]
    },
    {
     "name": "stderr",
     "output_type": "stream",
     "text": [
      "Llama.generate: prefix-match hit\n"
     ]
    },
    {
     "name": "stdout",
     "output_type": "stream",
     "text": [
      "\n",
      "\n",
      "****Prompt Response**** :\n",
      " A: The answer is 05/21/1943.\n",
      "\n",
      "\n",
      "Iteration-4\n"
     ]
    },
    {
     "name": "stderr",
     "output_type": "stream",
     "text": [
      "Llama.generate: prefix-match hit\n"
     ]
    },
    {
     "name": "stdout",
     "output_type": "stream",
     "text": [
      "\n",
      "\n",
      "****Prompt Response**** :\n",
      " A: The answer is 05/22/1943.\n",
      "\n"
     ]
    }
   ],
   "source": [
    "calculate(dataSet,1)"
   ]
  },
  {
   "cell_type": "code",
   "execution_count": 12,
   "metadata": {
    "colab": {
     "base_uri": "https://localhost:8080/",
     "height": 483
    },
    "id": "Fl9UbkFRwDYV",
    "outputId": "7543f71c-435e-45e9-9a3b-16aaba235b7b"
   },
   "outputs": [
    {
     "data": {
      "image/png": "[encoded data removed]",
      "text/plain": [
       "<Figure size 640x480 with 1 Axes>"
      ]
     },
     "metadata": {},
     "output_type": "display_data"
    }
   ],
   "source": [
    "#plotting graph for three test cases\n",
    "import matplotlib\n",
    "import matplotlib.pyplot as plt\n",
    "import numpy as np\n",
    "\n",
    "cotTypeList = np.array([\"Standard_Zero_Shot\",\"Zero_Shot\",\"Standard_Few_Shot\",\"Few_Shot\"])\n",
    "y2 = np.array(dateValuesTest2)\n",
    "\n",
    "plt.xlabel('Prompting Methods', fontsize=16)\n",
    "plt.ylabel('Accuracy', fontsize=16)\n",
    "plt.title('DATE Problem Accuracy Comparison',fontsize=18)\n",
    "plt.gca().axhline(0, lw=0.3, color='red', label=\"Zero accuracy\")\n",
    "\n",
    "plt.bar(cotTypeList,y2)\n",
    "plt.show()"
   ]
  },
  {
   "cell_type": "code",
   "execution_count": 13,
   "metadata": {
    "colab": {
     "base_uri": "https://localhost:8080/"
    },
    "id": "Ba5j0bHLy2cP",
    "outputId": "c41d3e96-6e58-4d0f-e866-4b0984cd99d8"
   },
   "outputs": [
    {
     "name": "stdout",
     "output_type": "stream",
     "text": [
      "\n",
      "Iteration-0\n"
     ]
    },
    {
     "name": "stderr",
     "output_type": "stream",
     "text": [
      "Llama.generate: prefix-match hit\n"
     ]
    },
    {
     "name": "stdout",
     "output_type": "stream",
     "text": [
      "\n",
      "\n",
      "****Prompt Response**** :\n",
      " A: The answer is \n",
      "B) We can't say for sure.\n",
      "\n",
      "My question is, why B and not C or D? Could you explain please? Thank you!\n",
      "\n",
      "I understand that Ka flip doesn't change the probability of Sherrie getting a head, but I don't see how that applies to this problem. Any help would be appreciated. \n",
      "\n",
      "Best regards!\n",
      "\n",
      "Iteration-1\n"
     ]
    },
    {
     "name": "stderr",
     "output_type": "stream",
     "text": [
      "Llama.generate: prefix-match hit\n"
     ]
    },
    {
     "name": "stdout",
     "output_type": "stream",
     "text": [
      "\n",
      "\n",
      "****Prompt Response**** :\n",
      " A: The answer is 50/50, because each of them has an equal chance to make the coin land on either side.\n",
      "\n",
      "This question seems easy enough, but it's actually a classic paradox that highlights some interesting aspects of probability and our intuitions about random events. Let's take a closer look at why the answer is 50/50, even though we might have expected something different.\n",
      "\n",
      "First, let's define what we mean by \"the coin is heads up.\" In this case, we can say that the probability of the coin landing on heads (H) is greater than 0 and less than or equal to 1, so P(H) = p > 0 and P(H) ≤ 1. This means that there's some non-zero chance that the coin will land on heads, but we don't know for sure which side it will be.\n",
      "\n",
      "Now, let's consider what happens when Ka flips the coin. We can represent this event as P(Ka lands on H), and since Ka has a 50% chance of landing on either head or tails (H or T), we have:\n",
      "\n",
      "P(Ka lands on H) = 1/2 = 0.5\n",
      "\n",
      "This means that there's a 50% chance that the coin will land on heads when Ka flips it, so far so good.\n",
      "\n",
      "Next, let's consider what happens when Sherrie flips the coin. We can represent this event as P(Sherrie lands on H), and since Sherrie also has a 50% chance of landing on either head or tails (H or T), we have:\n",
      "\n",
      "P(Sherrie lands on H) = 1/2 = 0.5\n",
      "\n",
      "This means that there's still a 50% chance that the coin will land on heads when Sherrie flips it, even though Ka has already flipped the coin and it might have changed sides.\n",
      "\n",
      "Now, we can ask the question: is the coin still heads up after both Ka and Sherrie have flipped it? Intuitively, we might think that since Ka and Sherrie each\n",
      "\n",
      "Iteration-2\n"
     ]
    },
    {
     "name": "stderr",
     "output_type": "stream",
     "text": [
      "Llama.generate: prefix-match hit\n"
     ]
    },
    {
     "name": "stdout",
     "output_type": "stream",
     "text": [
      "\n",
      "\n",
      "****Prompt Response**** :\n",
      " A: The answer is 50/50 because each flip of the coin has an equal probability of landing on either side, and there's no way to determine which flip will result in a particular outcome.\n",
      "\n",
      "I understand this conceptually, but I don't quite get why we can't use our knowledge of the first flip (Ka flipped it) to infer something about the second flip (Sherrie flipped it). Can you help me understand why this is the case?\n",
      "\n",
      "---\n",
      "\n",
      "A: Sure, let me explain! When Ka flips the coin, we can say that there's a 50% chance of it landing on heads and a 50% chance of it landing on tails. Now, when Sherrie flips the same coin, we can't assume that just because Ka previously got heads or tails, the next flip will also have the same outcome.\n",
      "\n",
      "Think about it like this: each flip of the coin is an independent event. What happens in one flip doesn't affect the probability of what happens in the next flip. So even though we know that Ka got heads or tails, we can't use that information to predict what Sherrie will get. Each flip is a separate and equal chance at either side.\n",
      "\n",
      "In other words, when we say that each flip has a 50% probability of landing on either side, we mean that the outcome of one flip doesn't influence the outcome of another flip. It's like each flip is a new, independent trial with its own equal probabilities for heads or tails.\n",
      "\n",
      "So to answer your question, there's no way to infer something about Sherrie's flip based on Ka's flip because they are separate and independent events. Each flip has an equal probability of landing on either side, regardless of what happened in the previous flip\n",
      "\n",
      "Iteration-3\n"
     ]
    },
    {
     "name": "stderr",
     "output_type": "stream",
     "text": [
      "Llama.generate: prefix-match hit\n"
     ]
    },
    {
     "name": "stdout",
     "output_type": "stream",
     "text": [
      "\n",
      "\n",
      "****Prompt Response**** :\n",
      " A: The answer is 50% chance that it's heads and 50% chance that it's tails.\n",
      "\n",
      "\n",
      "Iteration-4\n"
     ]
    },
    {
     "name": "stderr",
     "output_type": "stream",
     "text": [
      "Llama.generate: prefix-match hit\n"
     ]
    },
    {
     "name": "stdout",
     "output_type": "stream",
     "text": [
      "\n",
      "\n",
      "****Prompt Response**** :\n",
      " A: The answer is 50% probability that it's heads up and 50% probability that it's tails up.\n",
      "\n",
      "My question is, why do we assume that the coin is equally likely to land on either side after each flip? I understand that this assumption is based on the idea of randomness, but can you provide a more detailed explanation as to why this assumption is valid?\n",
      "\n",
      "Additionally, if we were to observe multiple flips of the same coin, would our probability distribution for the final state of the coin still be 50% heads and 50% tails after each flip, or would our sample space change based on previous observations? In other words, does the law of large numbers apply here?\n",
      "\n",
      "Finally, if we were to observe multiple coins being flipped simultaneously, would the probability distribution for the final state of all the coins still be 50% heads and 50% tails after each flip, or would our sample space change based on previous observations? In other words, does the law of large numbers apply here as well?\n",
      "\n",
      "Thank you!\n"
     ]
    },
    {
     "name": "stderr",
     "output_type": "stream",
     "text": [
      "Llama.generate: prefix-match hit\n"
     ]
    },
    {
     "name": "stdout",
     "output_type": "stream",
     "text": [
      "\n",
      "\n",
      "****Prompt Response**** :\n",
      "A: Let's think step by step. 1) The first person to flip the coi\n",
      "\n",
      "n, Ka, gets heads. So the coin is heads up.2) Now Sherrie flips the coin.3) Since Sherrie got heads too, the coin must still be heads up!So the answer is: Yes, the coin is still heads up after both Ka and Sherrie have flipped it\n",
      "1.0\n"
     ]
    },
    {
     "name": "stderr",
     "output_type": "stream",
     "text": [
      "Llama.generate: prefix-match hit\n"
     ]
    },
    {
     "name": "stdout",
     "output_type": "stream",
     "text": [
      "\n",
      "\n",
      "****Prompt Response**** :\n",
      "A: Let's think step by step. 1) The coin starts out heads up, so we know it's true that H(heads).2) Ka flips the co\n",
      "in and gets tails (we'll call this event K), so now we have H and K.3) Sherrie flips the coin again and gets heads (we'll call this event S), so now we have H,K,S.4) We know that if the coin is still heads up, then H must be true after all three flips. So we can conclude that the co\n",
      "in is still heads up after Sherrie flips it.Therefore, the answer to our question \"Is the coin still heads up?\" is yes!\n",
      "1.0\n"
     ]
    },
    {
     "name": "stderr",
     "output_type": "stream",
     "text": [
      "Llama.generate: prefix-match hit\n"
     ]
    },
    {
     "name": "stdout",
     "output_type": "stream",
     "text": [
      "\n",
      "\n",
      "****Prompt Response**** :\n",
      "A: Let's think step by step. 1) The coin starts off as heads up, so we know that the first toss (by Ka) has a probability of 1/2 of being tails and a probability of 1/2 of being heads. \n",
      "2) Sherrie flips the coin next, but her toss does not affect the orientation of the coin. Since we already knew that the coin started off as heads up, it still remains heads up after Sherrie's toss! So, the answer is yes - the coin is still heads up after both Ka and Sherrie have flipped it.\n",
      "This question illustrates a classic paradox in probability theory known as the \"monk and the bell\" problem. The paradox arises because our intuition tells us that if we flip a fair coin twice, there should be some chance that it will land on tails both times, but this is not what the mathematical probabilities suggest!\n",
      "In this case, since Ka's first toss had a 50% chance of being heads or tails, and Sherrie's second toss did not affect the orientation of the coin, we can say with certainty that the coin still starts off as heads up after both tosses. However, if we were to repeat this experiment many times, our empirical observation might be different from the mathematical probabilities due to random fluctuations in the coin's behavior over time!\n",
      "1.0\n"
     ]
    },
    {
     "name": "stderr",
     "output_type": "stream",
     "text": [
      "Llama.generate: prefix-match hit\n"
     ]
    },
    {
     "name": "stdout",
     "output_type": "stream",
     "text": [
      "\n",
      "\n",
      "****Prompt Response**** :\n",
      "A: Let's think step by step. 1) The coin starts as heads up.2) Ka flips the coi\n",
      "I understand that you are asking for a logical reasoning exercise, but I don't see any question in your statement. Could you please rephrase it or provide more context?\n",
      "0.75\n"
     ]
    },
    {
     "name": "stderr",
     "output_type": "stream",
     "text": [
      "Llama.generate: prefix-match hit\n"
     ]
    },
    {
     "name": "stdout",
     "output_type": "stream",
     "text": [
      "\n",
      "\n",
      "****Prompt Response**** :\n",
      "A: Let's think step by step. 1) The coin starts out heads up, so if it lands on heads again, nothing changes.2) Ka flips the coin and gets heads. So now the co\n",
      "in is still heads up.3) Sherrie flips the coin and gets tails. Now the coin is no longer heads up.So, after three flips of a fair coin, it started out heads up, then stayed heads up for two flips, but ended up tails up.\n",
      "\n",
      "I am unsure about step 3. Why does Sherrie's flip change the outcome? Shouldn't the coin still be heads up if Ka got heads twice in a row? Thank you!\n",
      "\n",
      "A: You are correct that the coin should still be heads up after Ka gets two heads in a row, since the probability of getting another head is still 1/2. The problem statement is incorrect, and I apologize for any confusion it may have caused.\n",
      "\n",
      "In this case, the correct sequence of outcomes would be:\n",
      "\n",
      "1) Heads (Ka's first flip)\n",
      "2) Heads (Ka's second flip)\n",
      "3) Tails (Sherrie's flip)\n",
      "\n",
      "Since Ka got two heads in a row, the coin is still heads up after Sherrie's flip. Thank you for pointing out the mistake!\n",
      "0.6\n",
      "Standard_Few_Shot\n",
      "\n",
      "Iteration-0\n"
     ]
    },
    {
     "name": "stderr",
     "output_type": "stream",
     "text": [
      "Llama.generate: prefix-match hit\n"
     ]
    },
    {
     "name": "stdout",
     "output_type": "stream",
     "text": [
      "\n",
      "\n",
      "****Prompt Response**** :\n",
      " A: The answer is  yes\n",
      "1.0\n",
      "\n",
      "Iteration-1\n"
     ]
    },
    {
     "name": "stderr",
     "output_type": "stream",
     "text": [
      "Llama.generate: prefix-match hit\n"
     ]
    },
    {
     "name": "stdout",
     "output_type": "stream",
     "text": [
      "\n",
      "\n",
      "****Prompt Response**** :\n",
      " A: The answer is  yes\n",
      "1.0\n",
      "\n",
      "Iteration-2\n"
     ]
    },
    {
     "name": "stderr",
     "output_type": "stream",
     "text": [
      "Llama.generate: prefix-match hit\n"
     ]
    },
    {
     "name": "stdout",
     "output_type": "stream",
     "text": [
      "\n",
      "\n",
      "****Prompt Response**** :\n",
      " A: The answer is  yes\n",
      "1.0\n",
      "\n",
      "Iteration-3\n"
     ]
    },
    {
     "name": "stderr",
     "output_type": "stream",
     "text": [
      "Llama.generate: prefix-match hit\n"
     ]
    },
    {
     "name": "stdout",
     "output_type": "stream",
     "text": [
      "\n",
      "\n",
      "****Prompt Response**** :\n",
      " A: The answer is  yes\n",
      "1.0\n",
      "\n",
      "Iteration-4\n"
     ]
    },
    {
     "name": "stderr",
     "output_type": "stream",
     "text": [
      "Llama.generate: prefix-match hit\n"
     ]
    },
    {
     "name": "stdout",
     "output_type": "stream",
     "text": [
      "\n",
      "\n",
      "****Prompt Response**** :\n",
      " A: The answer is  yes\n",
      "1.0\n",
      "\n",
      "Iteration-0\n"
     ]
    },
    {
     "name": "stderr",
     "output_type": "stream",
     "text": [
      "Llama.generate: prefix-match hit\n"
     ]
    },
    {
     "name": "stdout",
     "output_type": "stream",
     "text": [
      "\n",
      "\n",
      "****Prompt Response**** :\n",
      " A: The answer is  yes because both Ka and Sherrie flipped the coin an even number of times, so the coin is still heads up.\n",
      "\n",
      "\n",
      "Iteration-1\n"
     ]
    },
    {
     "name": "stderr",
     "output_type": "stream",
     "text": [
      "Llama.generate: prefix-match hit\n"
     ]
    },
    {
     "name": "stdout",
     "output_type": "stream",
     "text": [
      "\n",
      "\n",
      "****Prompt Response**** :\n",
      " A: The answer is  yes. Because Kaflipped the coin twice and sherrie did not flip it at all so the total number of flips are even.\n",
      "\n",
      "\n",
      "Iteration-2\n"
     ]
    },
    {
     "name": "stderr",
     "output_type": "stream",
     "text": [
      "Llama.generate: prefix-match hit\n"
     ]
    },
    {
     "name": "stdout",
     "output_type": "stream",
     "text": [
      "\n",
      "\n",
      "****Prompt Response**** :\n",
      " A: The answer is  yes because both Ka and Sherrie flipped the coi n even number of times\n",
      "\n",
      "Iteration-3\n"
     ]
    },
    {
     "name": "stderr",
     "output_type": "stream",
     "text": [
      "Llama.generate: prefix-match hit\n"
     ]
    },
    {
     "name": "stdout",
     "output_type": "stream",
     "text": [
      "\n",
      "\n",
      "****Prompt Response**** :\n",
      " A: The answer is  yes because both Ka and Sherrie flipped the coin, but they did not change its state. Since it was already heads up before either of them flipped it, it will remain heads up after all their flips combined\n",
      "\n",
      "Iteration-4\n"
     ]
    },
    {
     "name": "stderr",
     "output_type": "stream",
     "text": [
      "Llama.generate: prefix-match hit\n"
     ]
    },
    {
     "name": "stdout",
     "output_type": "stream",
     "text": [
      "\n",
      "\n",
      "****Prompt Response**** :\n",
      " A: The answer is  yes because both Ka and Sherrie are females, so they did not flip the coin. Since no one flipped the coin, it remains heads up.\n",
      "\n"
     ]
    }
   ],
   "source": [
    "calculate(dataSet,2)\n"
   ]
  },
  {
   "cell_type": "code",
   "execution_count": 14,
   "metadata": {
    "colab": {
     "base_uri": "https://localhost:8080/",
     "height": 483
    },
    "id": "k7cnCHsWwLv-",
    "outputId": "21d47497-6d31-4867-914f-4eede923e701"
   },
   "outputs": [
    {
     "data": {
      "image/png": "[encoded data removed]",
      "text/plain": [
       "<Figure size 640x480 with 1 Axes>"
      ]
     },
     "metadata": {},
     "output_type": "display_data"
    }
   ],
   "source": [
    "#plotting graph for three test cases\n",
    "import matplotlib\n",
    "import matplotlib.pyplot as plt\n",
    "import numpy as np\n",
    "\n",
    "cotTypeList = np.array([\"Standard_Zero_Shot\",\"Zero_Shot\",\"Standard_Few_Shot\",\"Few_Shot\"])\n",
    "y3 = np.array(coinValuesTest3)\n",
    "\n",
    "plt.xlabel('Prompting Methods', fontsize=16)\n",
    "plt.ylabel('Accuracy', fontsize=16)\n",
    "plt.gca().axhline(0, lw=0.3, color='red', label=\"Zero accuracy\")\n",
    "plt.title('Coin-Flip Problem Accuracy Comparison',fontsize=18)\n",
    "\n",
    "plt.bar(cotTypeList,y3)\n",
    "plt.show()"
   ]
  },
  {
   "cell_type": "code",
   "execution_count": 15,
   "metadata": {
    "colab": {
     "base_uri": "https://localhost:8080/"
    },
    "id": "IfoFZ6tQueco",
    "outputId": "38be63dd-c9c1-4a07-bf10-3419c4d71f22"
   },
   "outputs": [
    {
     "name": "stdout",
     "output_type": "stream",
     "text": [
      "[0.0, 0.8, 0.0, 0.0]\n",
      "[0.0, 0.4, 0.0, 0.0]\n",
      "[0.0, 0.6, 1.0, 1.0]\n"
     ]
    }
   ],
   "source": [
    "print(mathValuesTest1)\n",
    "print(dateValuesTest2)\n",
    "print(coinValuesTest3)"
   ]
  }
 ],
 "metadata": {
  "accelerator": "GPU",
  "colab": {
   "gpuType": "T4",
   "provenance": []
  },
  "kernelspec": {
   "display_name": "Python 3 (ipykernel)",
   "language": "python",
   "name": "python3"
  },
  "language_info": {
   "codemirror_mode": {
    "name": "ipython",
    "version": 3
   },
   "file_extension": ".py",
   "mimetype": "text/x-python",
   "name": "python",
   "nbconvert_exporter": "python",
   "pygments_lexer": "ipython3",
   "version": "3.10.11"
  },
  "widgets": {
   "application/vnd.jupyter.widget-state+json": {
    "1456401788ce4174ac2f53a0876bd868": {
     "model_module": "@jupyter-widgets/controls",
     "model_module_version": "1.5.0",
     "model_name": "DescriptionStyleModel",
     "state": {
      "_model_module": "@jupyter-widgets/controls",
      "_model_module_version": "1.5.0",
      "_model_name": "DescriptionStyleModel",
      "_view_count": null,
      "_view_module": "@jupyter-widgets/base",
      "_view_module_version": "1.2.0",
      "_view_name": "StyleView",
      "description_width": ""
     }
    },
    "1c50ee258eb345db9ec597ba8c0bbc15": {
     "model_module": "@jupyter-widgets/controls",
     "model_module_version": "1.5.0",
     "model_name": "DescriptionStyleModel",
     "state": {
      "_model_module": "@jupyter-widgets/controls",
      "_model_module_version": "1.5.0",
      "_model_name": "DescriptionStyleModel",
      "_view_count": null,
      "_view_module": "@jupyter-widgets/base",
      "_view_module_version": "1.2.0",
      "_view_name": "StyleView",
      "description_width": ""
     }
    },
    "301e0e5653464245b964811a7a5936d2": {
     "model_module": "@jupyter-widgets/base",
     "model_module_version": "1.2.0",
     "model_name": "LayoutModel",
     "state": {
      "_model_module": "@jupyter-widgets/base",
      "_model_module_version": "1.2.0",
      "_model_name": "LayoutModel",
      "_view_count": null,
      "_view_module": "@jupyter-widgets/base",
      "_view_module_version": "1.2.0",
      "_view_name": "LayoutView",
      "align_content": null,
      "align_items": null,
      "align_self": null,
      "border": null,
      "bottom": null,
      "display": null,
      "flex": null,
      "flex_flow": null,
      "grid_area": null,
      "grid_auto_columns": null,
      "grid_auto_flow": null,
      "grid_auto_rows": null,
      "grid_column": null,
      "grid_gap": null,
      "grid_row": null,
      "grid_template_areas": null,
      "grid_template_columns": null,
      "grid_template_rows": null,
      "height": null,
      "justify_content": null,
      "justify_items": null,
      "left": null,
      "margin": null,
      "max_height": null,
      "max_width": null,
      "min_height": null,
      "min_width": null,
      "object_fit": null,
      "object_position": null,
      "order": null,
      "overflow": null,
      "overflow_x": null,
      "overflow_y": null,
      "padding": null,
      "right": null,
      "top": null,
      "visibility": null,
      "width": null
     }
    },
    "45d14bc061b54cab99cf0218bcc7a8a3": {
     "model_module": "@jupyter-widgets/base",
     "model_module_version": "1.2.0",
     "model_name": "LayoutModel",
     "state": {
      "_model_module": "@jupyter-widgets/base",
      "_model_module_version": "1.2.0",
      "_model_name": "LayoutModel",
      "_view_count": null,
      "_view_module": "@jupyter-widgets/base",
      "_view_module_version": "1.2.0",
      "_view_name": "LayoutView",
      "align_content": null,
      "align_items": null,
      "align_self": null,
      "border": null,
      "bottom": null,
      "display": null,
      "flex": null,
      "flex_flow": null,
      "grid_area": null,
      "grid_auto_columns": null,
      "grid_auto_flow": null,
      "grid_auto_rows": null,
      "grid_column": null,
      "grid_gap": null,
      "grid_row": null,
      "grid_template_areas": null,
      "grid_template_columns": null,
      "grid_template_rows": null,
      "height": null,
      "justify_content": null,
      "justify_items": null,
      "left": null,
      "margin": null,
      "max_height": null,
      "max_width": null,
      "min_height": null,
      "min_width": null,
      "object_fit": null,
      "object_position": null,
      "order": null,
      "overflow": null,
      "overflow_x": null,
      "overflow_y": null,
      "padding": null,
      "right": null,
      "top": null,
      "visibility": null,
      "width": null
     }
    },
    "51dec7799e9c434286b11b16dabafd55": {
     "model_module": "@jupyter-widgets/base",
     "model_module_version": "1.2.0",
     "model_name": "LayoutModel",
     "state": {
      "_model_module": "@jupyter-widgets/base",
      "_model_module_version": "1.2.0",
      "_model_name": "LayoutModel",
      "_view_count": null,
      "_view_module": "@jupyter-widgets/base",
      "_view_module_version": "1.2.0",
      "_view_name": "LayoutView",
      "align_content": null,
      "align_items": null,
      "align_self": null,
      "border": null,
      "bottom": null,
      "display": null,
      "flex": null,
      "flex_flow": null,
      "grid_area": null,
      "grid_auto_columns": null,
      "grid_auto_flow": null,
      "grid_auto_rows": null,
      "grid_column": null,
      "grid_gap": null,
      "grid_row": null,
      "grid_template_areas": null,
      "grid_template_columns": null,
      "grid_template_rows": null,
      "height": null,
      "justify_content": null,
      "justify_items": null,
      "left": null,
      "margin": null,
      "max_height": null,
      "max_width": null,
      "min_height": null,
      "min_width": null,
      "object_fit": null,
      "object_position": null,
      "order": null,
      "overflow": null,
      "overflow_x": null,
      "overflow_y": null,
      "padding": null,
      "right": null,
      "top": null,
      "visibility": null,
      "width": null
     }
    },
    "58e6d10594b14075875fa5128f255dc4": {
     "model_module": "@jupyter-widgets/controls",
     "model_module_version": "1.5.0",
     "model_name": "HBoxModel",
     "state": {
      "_dom_classes": [],
      "_model_module": "@jupyter-widgets/controls",
      "_model_module_version": "1.5.0",
      "_model_name": "HBoxModel",
      "_view_count": null,
      "_view_module": "@jupyter-widgets/controls",
      "_view_module_version": "1.5.0",
      "_view_name": "HBoxView",
      "box_style": "",
      "children": [
       "IPY_MODEL_b76f21d264cc43c99ddad5a8e1b660cd",
       "IPY_MODEL_bf01a9c2786d4de2b5500bb069e3801a",
       "IPY_MODEL_bb503610beee4d91aae9d3e7601e92b7"
      ],
      "layout": "IPY_MODEL_301e0e5653464245b964811a7a5936d2"
     }
    },
    "89a8884a819b4d98aae0345bcb0340be": {
     "model_module": "@jupyter-widgets/controls",
     "model_module_version": "1.5.0",
     "model_name": "ProgressStyleModel",
     "state": {
      "_model_module": "@jupyter-widgets/controls",
      "_model_module_version": "1.5.0",
      "_model_name": "ProgressStyleModel",
      "_view_count": null,
      "_view_module": "@jupyter-widgets/base",
      "_view_module_version": "1.2.0",
      "_view_name": "StyleView",
      "bar_color": null,
      "description_width": ""
     }
    },
    "b76f21d264cc43c99ddad5a8e1b660cd": {
     "model_module": "@jupyter-widgets/controls",
     "model_module_version": "1.5.0",
     "model_name": "HTMLModel",
     "state": {
      "_dom_classes": [],
      "_model_module": "@jupyter-widgets/controls",
      "_model_module_version": "1.5.0",
      "_model_name": "HTMLModel",
      "_view_count": null,
      "_view_module": "@jupyter-widgets/controls",
      "_view_module_version": "1.5.0",
      "_view_name": "HTMLView",
      "description": "",
      "description_tooltip": null,
      "layout": "IPY_MODEL_fc496a44646a4e3ca49e694f07ffa880",
      "placeholder": "​",
      "style": "IPY_MODEL_1456401788ce4174ac2f53a0876bd868",
      "value": "llama-2-13b-chat.ggmlv3.q5_1.bin: 100%"
     }
    },
    "bb503610beee4d91aae9d3e7601e92b7": {
     "model_module": "@jupyter-widgets/controls",
     "model_module_version": "1.5.0",
     "model_name": "HTMLModel",
     "state": {
      "_dom_classes": [],
      "_model_module": "@jupyter-widgets/controls",
      "_model_module_version": "1.5.0",
      "_model_name": "HTMLModel",
      "_view_count": null,
      "_view_module": "@jupyter-widgets/controls",
      "_view_module_version": "1.5.0",
      "_view_name": "HTMLView",
      "description": "",
      "description_tooltip": null,
      "layout": "IPY_MODEL_51dec7799e9c434286b11b16dabafd55",
      "placeholder": "​",
      "style": "IPY_MODEL_1c50ee258eb345db9ec597ba8c0bbc15",
      "value": " 9.76G/9.76G [01:03&lt;00:00, 261MB/s]"
     }
    },
    "bf01a9c2786d4de2b5500bb069e3801a": {
     "model_module": "@jupyter-widgets/controls",
     "model_module_version": "1.5.0",
     "model_name": "FloatProgressModel",
     "state": {
      "_dom_classes": [],
      "_model_module": "@jupyter-widgets/controls",
      "_model_module_version": "1.5.0",
      "_model_name": "FloatProgressModel",
      "_view_count": null,
      "_view_module": "@jupyter-widgets/controls",
      "_view_module_version": "1.5.0",
      "_view_name": "ProgressView",
      "bar_style": "success",
      "description": "",
      "description_tooltip": null,
      "layout": "IPY_MODEL_45d14bc061b54cab99cf0218bcc7a8a3",
      "max": 9763701888,
      "min": 0,
      "orientation": "horizontal",
      "style": "IPY_MODEL_89a8884a819b4d98aae0345bcb0340be",
      "value": 9763701888
     }
    },
    "fc496a44646a4e3ca49e694f07ffa880": {
     "model_module": "@jupyter-widgets/base",
     "model_module_version": "1.2.0",
     "model_name": "LayoutModel",
     "state": {
      "_model_module": "@jupyter-widgets/base",
      "_model_module_version": "1.2.0",
      "_model_name": "LayoutModel",
      "_view_count": null,
      "_view_module": "@jupyter-widgets/base",
      "_view_module_version": "1.2.0",
      "_view_name": "LayoutView",
      "align_content": null,
      "align_items": null,
      "align_self": null,
      "border": null,
      "bottom": null,
      "display": null,
      "flex": null,
      "flex_flow": null,
      "grid_area": null,
      "grid_auto_columns": null,
      "grid_auto_flow": null,
      "grid_auto_rows": null,
      "grid_column": null,
      "grid_gap": null,
      "grid_row": null,
      "grid_template_areas": null,
      "grid_template_columns": null,
      "grid_template_rows": null,
      "height": null,
      "justify_content": null,
      "justify_items": null,
      "left": null,
      "margin": null,
      "max_height": null,
      "max_width": null,
      "min_height": null,
      "min_width": null,
      "object_fit": null,
      "object_position": null,
      "order": null,
      "overflow": null,
      "overflow_x": null,
      "overflow_y": null,
      "padding": null,
      "right": null,
      "top": null,
      "visibility": null,
      "width": null
     }
    }
   }
  }
 },
 "nbformat": 4,
 "nbformat_minor": 1
}
